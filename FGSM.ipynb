{
 "cells": [
  {
   "cell_type": "markdown",
   "id": "4a32f6e4",
   "metadata": {},
   "source": [
    "# Question 1: Implementation of Adversarial Attacks Using FGSM"
   ]
  },
  {
   "cell_type": "code",
   "execution_count": 187,
   "id": "05abce44",
   "metadata": {},
   "outputs": [],
   "source": [
    "import torch \n",
    "import torch.nn as nn\n",
    "import torch.nn.functional as F\n",
    "from torchvision import datasets, transforms\n",
    "from torch.utils.data import DataLoader\n",
    "import matplotlib.pyplot as plt"
   ]
  },
  {
   "cell_type": "markdown",
   "id": "bd514900",
   "metadata": {},
   "source": [
    "## FGSM Implementation"
   ]
  },
  {
   "cell_type": "code",
   "execution_count": 188,
   "id": "1f5899a9",
   "metadata": {},
   "outputs": [],
   "source": [
    "def fgsm(model, loss_fn, images, labels, epsilon):\n",
    "    images = images.clone().detach().to(next(model.parameters()).device)\n",
    "    labels = labels.clone().detach().to(next(model.parameters()).device)\n",
    "    images.requires_grad = True\n",
    "    \n",
    "    outputs = model(images)\n",
    "    loss = loss_fn(outputs, labels)\n",
    "    \n",
    "    model.zero_grad()\n",
    "    loss.backward()\n",
    "    \n",
    "    grad_sign = images.grad.detach().sign()\n",
    "    perturbed_images = images + epsilon * grad_sign\n",
    "    perturbed_images = torch.clamp(perturbed_images, 0, 1)\n",
    "    \n",
    "    return perturbed_images"
   ]
  },
  {
   "cell_type": "markdown",
   "id": "2d0187f3",
   "metadata": {},
   "source": [
    "## FGSM - Gaussain Implementation"
   ]
  },
  {
   "cell_type": "code",
   "execution_count": 189,
   "id": "7dbc228e",
   "metadata": {},
   "outputs": [],
   "source": [
    "def fgsm_gaussian(images, epsilon):\n",
    "    images = images.clone().detach()\n",
    "    noise = torch.randn_like(images) * epsilon\n",
    "    perturbed_images = images + noise\n",
    "    perturbed_images = torch.clamp(perturbed_images, 0, 1)\n",
    "    return perturbed_images\n"
   ]
  },
  {
   "cell_type": "markdown",
   "id": "0516b2a1",
   "metadata": {},
   "source": []
  },
  {
   "cell_type": "markdown",
   "id": "121d74d2",
   "metadata": {},
   "source": [
    "## Load MNIST Model"
   ]
  },
  {
   "cell_type": "code",
   "execution_count": 190,
   "id": "3f64d778",
   "metadata": {},
   "outputs": [
    {
     "data": {
      "text/plain": [
       "<All keys matched successfully>"
      ]
     },
     "execution_count": 190,
     "metadata": {},
     "output_type": "execute_result"
    }
   ],
   "source": [
    "class SimpleCNN(nn.Module):\n",
    "    def __init__(self):\n",
    "        super().__init__()\n",
    "        self.conv1 = nn.Conv2d(1, 32, kernel_size=3, stride=1, padding=1)\n",
    "        self.pool  = nn.MaxPool2d(kernel_size=2, stride=2, padding=0)\n",
    "        self.fc1   = nn.Linear(32 * 14 * 14, 10)\n",
    "\n",
    "    def forward(self, x):\n",
    "        x = self.pool(F.relu(self.conv1(x)))\n",
    "        x = x.view(-1, 32 * 14 * 14)\n",
    "        x = self.fc1(x)\n",
    "        return x\n",
    "\n",
    "device = torch.device(\"cuda\" if torch.cuda.is_available() else \"cpu\")\n",
    "model = SimpleCNN().to(device)\n",
    "\n",
    "url = \"https://huggingface.co/spaces/YesheyDema/pytorch-mnist-classifier/resolve/main/mnist_cnn.pth\"\n",
    "state_dict = torch.hub.load_state_dict_from_url(url, map_location=device)\n",
    "model.load_state_dict(state_dict)\n"
   ]
  },
  {
   "cell_type": "markdown",
   "id": "581e96d2",
   "metadata": {},
   "source": []
  },
  {
   "cell_type": "code",
   "execution_count": 191,
   "id": "bb443ee1",
   "metadata": {},
   "outputs": [],
   "source": [
    "transform = transforms.Compose([\n",
    "    transforms.Grayscale(num_output_channels=1),\n",
    "    transforms.Resize((28, 28)),\n",
    "    transforms.ToTensor(),\n",
    "    transforms.Normalize((0.5,), (0.5,)),  \n",
    "])\n",
    "\n",
    "test_ds = datasets.MNIST(root=\"./data\", train=False, download=True, transform=transform)\n",
    "loss_fn = nn.CrossEntropyLoss()\n",
    "test_loader = DataLoader(test_ds, batch_size=100, shuffle=True)\n",
    "\n",
    "def evaluate(model, loader, attack=None, epsilon=0.1, show_samples=True, num_images=3):\n",
    "    model.eval()\n",
    "    correct = 0\n",
    "    total = 0\n",
    "\n",
    "    sample_images, sample_labels = None, None\n",
    "    sample_preds_clean, sample_preds_pert, sample_perturbed = None, None, None\n",
    "    \n",
    "    for batch_idx, (images, labels) in enumerate(loader):\n",
    "        images, labels = images.to(device), labels.to(device)\n",
    "\n",
    "        if attack == \"fgsm\":\n",
    "            perturbed = fgsm(model, loss_fn, images, labels, epsilon)\n",
    "        elif attack == \"gaussian\":\n",
    "            perturbed = fgsm_gaussian(images, epsilon)\n",
    "        else:\n",
    "            perturbed = images.clone()\n",
    "\n",
    "        outputs = model(perturbed)\n",
    "        _, predicted = torch.max(outputs, 1)\n",
    "        correct += (predicted == labels).sum().item()\n",
    "        total += labels.size(0)\n",
    "\n",
    "        if batch_idx == 1 and show_samples:\n",
    "            sample_images = images[:num_images]\n",
    "            sample_labels = labels[:num_images]\n",
    "            sample_perturbed = perturbed[:num_images].detach()\n",
    "            with torch.no_grad():\n",
    "                sample_preds_clean = model(sample_images).argmax(dim=1)\n",
    "                sample_preds_pert = model(sample_perturbed).argmax(dim=1)\n",
    "\n",
    "    acc = 100 * correct / total\n",
    "\n",
    "    if show_samples and sample_images is not None and (attack == \"fgsm\" or attack == \"gaussian\"):\n",
    "        fig, axes = plt.subplots(num_images, 2, figsize=(6, num_images*2))\n",
    "\n",
    "        for i in range(num_images):\n",
    "            axes[i,0].matshow(sample_images[i].detach().cpu().squeeze(), cmap=\"gray\")\n",
    "            axes[i,0].set_title(f\"Clean: {sample_preds_clean[i].item()}\")\n",
    "            axes[i,0].axis(\"off\")\n",
    "\n",
    "            axes[i,1].matshow(sample_perturbed[i].detach().cpu().squeeze(), cmap=\"gray\")\n",
    "            axes[i,1].set_title(f\"Perturbed Label: {sample_preds_pert[i].item()}\")\n",
    "            axes[i,1].axis(\"off\")\n",
    "\n",
    "        plt.tight_layout()\n",
    "        plt.show()\n",
    "\n",
    "    return acc\n"
   ]
  },
  {
   "cell_type": "code",
   "execution_count": 192,
   "id": "23c68f88",
   "metadata": {},
   "outputs": [
    {
     "name": "stdout",
     "output_type": "stream",
     "text": [
      "Clean vs Perturbed using FGSM\n"
     ]
    },
    {
     "data": {
      "image/png": "[encoded data removed]",
      "text/plain": [
       "<Figure size 600x600 with 6 Axes>"
      ]
     },
     "metadata": {},
     "output_type": "display_data"
    },
    {
     "name": "stdout",
     "output_type": "stream",
     "text": [
      "Clean vs Perturbed using Gaussian Noise\n"
     ]
    },
    {
     "data": {
      "image/png": "[encoded data removed]",
      "text/plain": [
       "<Figure size 600x600 with 6 Axes>"
      ]
     },
     "metadata": {},
     "output_type": "display_data"
    },
    {
     "name": "stdout",
     "output_type": "stream",
     "text": [
      "Accuracy on clean images: 97.79%\n",
      "Accuracy under FGSM attack (ε=0.1): 42.46%\n",
      "Accuracy under Gaussian noise (ε=0.1): 52.48%\n"
     ]
    }
   ],
   "source": [
    "eps = 0.1\n",
    "acc_clean = evaluate(model, test_loader, attack=None, epsilon=eps)\n",
    "print(\"Clean vs Perturbed using FGSM\")\n",
    "acc_fgsm = evaluate(model, test_loader, attack=\"fgsm\", epsilon=eps)\n",
    "print(\"Clean vs Perturbed using Gaussian Noise\")\n",
    "acc_gauss = evaluate(model, test_loader, attack=\"gaussian\", epsilon=eps)\n",
    "\n",
    "print(f\"Accuracy on clean images: {acc_clean:.2f}%\")\n",
    "print(f\"Accuracy under FGSM attack (ε={eps}): {acc_fgsm:.2f}%\")\n",
    "print(f\"Accuracy under Gaussian noise (ε={eps}): {acc_gauss:.2f}%\")"
   ]
  },
  {
   "cell_type": "code",
   "execution_count": 193,
   "id": "c03b3f88",
   "metadata": {},
   "outputs": [
    {
     "name": "stdout",
     "output_type": "stream",
     "text": [
      "Running FGSM and Gaussian experiments...\n",
      "Epsilon 0.01 | FGSM acc: 52.53% | Gaussian acc: 53.68%\n",
      "Epsilon 0.10 | FGSM acc: 42.46% | Gaussian acc: 52.29%\n",
      "Epsilon 0.30 | FGSM acc: 19.93% | Gaussian acc: 44.39%\n",
      "Epsilon 0.50 | FGSM acc: 10.23% | Gaussian acc: 31.94%\n",
      "Epsilon 1.00 | FGSM acc: 9.25% | Gaussian acc: 14.19%\n"
     ]
    }
   ],
   "source": [
    "epsilons = [0.01, 0.1, 0.3, 0.5, 1.0]\n",
    "\n",
    "fgsm_accs = []\n",
    "gauss_accs = []\n",
    "\n",
    "print(\"Running FGSM and Gaussian experiments...\")\n",
    "for eps in epsilons:\n",
    "    acc_fgsm = evaluate(model, test_loader, attack=\"fgsm\", epsilon=eps, show_samples=False)\n",
    "    acc_gauss = evaluate(model, test_loader, attack=\"gaussian\", epsilon=eps, show_samples=False)\n",
    "\n",
    "    fgsm_accs.append(acc_fgsm)\n",
    "    gauss_accs.append(acc_gauss)\n",
    "\n",
    "    print(f\"Epsilon {eps:.2f} | FGSM acc: {acc_fgsm:.2f}% | Gaussian acc: {acc_gauss:.2f}%\")\n",
    "\n"
   ]
  },
  {
   "cell_type": "markdown",
   "id": "c4885089",
   "metadata": {},
   "source": [
    "## Visualisations"
   ]
  },
  {
   "cell_type": "code",
   "execution_count": 194,
   "id": "aa60953d",
   "metadata": {},
   "outputs": [],
   "source": [
    "# FGSM plot\n",
    "plt.figure(figsize=(6,4))\n",
    "plt.plot(epsilons, fgsm_accs, marker='o', label=\"FGSM Attack\")\n",
    "plt.axhline(y=acc_clean, color=\"gray\", linestyle=\"--\", label=\"Clean baseline\")\n",
    "plt.title(\"FGSM Accuracy vs Epsilon\")\n",
    "plt.xlabel(\"Epsilon\")\n",
    "plt.ylabel(\"Accuracy (%)\")\n",
    "plt.legend()\n",
    "plt.grid(True)\n",
    "plt.savefig(\"fgsm_accuracy.png\")   # Save this figure\n",
    "plt.close()   # Close to avoid overlap\n",
    "\n",
    "# Gaussian plot\n",
    "plt.figure(figsize=(6,4))\n",
    "plt.plot(epsilons, gauss_accs, marker='o', label=\"Gaussian Noise\")\n",
    "plt.axhline(y=acc_clean, color=\"gray\", linestyle=\"--\", label=\"Clean baseline\")\n",
    "plt.title(\"Gaussian Noise Accuracy vs Epsilon\")\n",
    "plt.xlabel(\"Epsilon\")\n",
    "plt.ylabel(\"Accuracy (%)\")\n",
    "plt.legend()\n",
    "plt.grid(True)\n",
    "plt.savefig(\"gaussian_accuracy.png\")\n",
    "plt.close()\n",
    "\n",
    "# Combined plot\n",
    "plt.figure(figsize=(6,4))\n",
    "plt.plot(epsilons, fgsm_accs, marker='o', label=\"FGSM Attack\")\n",
    "plt.plot(epsilons, gauss_accs, marker='s', label=\"Gaussian Noise\")\n",
    "plt.axhline(y=acc_clean, color=\"gray\", linestyle=\"--\", label=\"Clean baseline\")\n",
    "plt.title(\"Accuracy vs Epsilon (FGSM vs Gaussian)\")\n",
    "plt.xlabel(\"Epsilon\")\n",
    "plt.ylabel(\"Accuracy (%)\")\n",
    "plt.legend()\n",
    "plt.grid(True)\n",
    "plt.savefig(\"fgsm_vs_gaussian.png\")\n",
    "plt.close()\n"
   ]
  },
  {
   "cell_type": "code",
   "execution_count": null,
   "id": "696d1028",
   "metadata": {},
   "outputs": [],
   "source": [
    "\n"
   ]
  }
 ],
 "metadata": {
  "kernelspec": {
   "display_name": "base",
   "language": "python",
   "name": "python3"
  },
  "language_info": {
   "codemirror_mode": {
    "name": "ipython",
    "version": 3
   },
   "file_extension": ".py",
   "mimetype": "text/x-python",
   "name": "python",
   "nbconvert_exporter": "python",
   "pygments_lexer": "ipython3",
   "version": "3.12.7"
  }
 },
 "nbformat": 4,
 "nbformat_minor": 5
}
